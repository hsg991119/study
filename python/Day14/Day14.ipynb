{
 "cells": [
  {
   "cell_type": "code",
   "execution_count": 26,
   "metadata": {},
   "outputs": [
    {
     "name": "stdout",
     "output_type": "stream",
     "text": [
      "9\n",
      "22\n",
      "37\n",
      "8\n",
      "13\n",
      "18\n",
      "46\n",
      "32\n",
      "21\n",
      "6\n"
     ]
    }
   ],
   "source": [
    "numbers = [4, 17, 32, 3, 8, 13, 41, 27, 16, 1]\n",
    "\n",
    "for i in range(len(numbers)):\n",
    "    print(f\"{numbers[i]+5}\")"
   ]
  },
  {
   "cell_type": "code",
   "execution_count": 27,
   "metadata": {},
   "outputs": [
    {
     "name": "stdout",
     "output_type": "stream",
     "text": [
      "9\n",
      "22\n",
      "37\n",
      "8\n",
      "13\n",
      "18\n",
      "46\n",
      "32\n",
      "21\n",
      "6\n"
     ]
    }
   ],
   "source": [
    "for index, item in enumerate(numbers):\n",
    "    print(item + 5)"
   ]
  },
  {
   "cell_type": "code",
   "execution_count": 52,
   "metadata": {},
   "outputs": [
    {
     "name": "stdout",
     "output_type": "stream",
     "text": [
      "9\n",
      "22\n",
      "37\n",
      "8\n",
      "13\n",
      "18\n",
      "46\n",
      "32\n",
      "21\n",
      "6\n"
     ]
    }
   ],
   "source": [
    "for item in numbers:\n",
    "    print(item + 5)   "
   ]
  },
  {
   "cell_type": "code",
   "execution_count": 38,
   "metadata": {},
   "outputs": [
    {
     "name": "stdout",
     "output_type": "stream",
     "text": [
      "scores[0] = 88\n",
      "scores[1] = 92\n",
      "scores[5] = 96\n",
      "scores[6] = 84\n",
      "scores[9] = 100\n"
     ]
    }
   ],
   "source": [
    "scores = [88, 92, 76, 64, 80, 96, 84, 72, 68, 100]\n",
    "\n",
    "for index, item in enumerate(scores):\n",
    "    if item > 80:\n",
    "        print(f\"scores[{index}] = {item}\")"
   ]
  },
  {
   "cell_type": "code",
   "execution_count": 58,
   "metadata": {},
   "outputs": [
    {
     "name": "stdout",
     "output_type": "stream",
     "text": [
      "17\n",
      "3\n",
      "13\n",
      "27\n",
      "1\n"
     ]
    }
   ],
   "source": [
    "for i in range(len(numbers)):\n",
    "    if i % 2:\n",
    "        print(numbers[i])"
   ]
  },
  {
   "cell_type": "code",
   "execution_count": 59,
   "metadata": {},
   "outputs": [
    {
     "name": "stdout",
     "output_type": "stream",
     "text": [
      "17\n",
      "3\n",
      "13\n",
      "27\n",
      "1\n"
     ]
    }
   ],
   "source": [
    "for index, item in enumerate(numbers):\n",
    "    if index % 2:\n",
    "        print(item)"
   ]
  },
  {
   "cell_type": "code",
   "execution_count": null,
   "metadata": {},
   "outputs": [],
   "source": [
    "for item in numbers[1::2]:\n",
    "    print(item)"
   ]
  },
  {
   "cell_type": "code",
   "execution_count": 68,
   "metadata": {},
   "outputs": [
    {
     "name": "stdout",
     "output_type": "stream",
     "text": [
      "17\n",
      "3\n",
      "13\n",
      "27\n",
      "1\n"
     ]
    }
   ],
   "source": [
    "print(*numbers[1::2], sep='\\n')"
   ]
  },
  {
   "cell_type": "code",
   "execution_count": 70,
   "metadata": {},
   "outputs": [
    {
     "name": "stdout",
     "output_type": "stream",
     "text": [
      "0. Coffee\n",
      "4. Tea\n"
     ]
    }
   ],
   "source": [
    "favorites = ['Coffee', 'Juice', 'Coke', 'Milk', 'Tea']\n",
    "\n",
    "for i in range(len(favorites)):\n",
    "    if favorites[i] in('Coffee', 'Tea'):\n",
    "        print(f\"{i}. {favorites[i]}\")"
   ]
  },
  {
   "cell_type": "code",
   "execution_count": 71,
   "metadata": {},
   "outputs": [
    {
     "name": "stdout",
     "output_type": "stream",
     "text": [
      "0. Coffee\n",
      "4. Tea\n"
     ]
    }
   ],
   "source": [
    "for index, item in enumerate(favorites):\n",
    "    if item in('Coffee', 'Tea'):\n",
    "        print(f\"{index}. {item}\")"
   ]
  },
  {
   "cell_type": "code",
   "execution_count": 72,
   "metadata": {},
   "outputs": [
    {
     "name": "stdout",
     "output_type": "stream",
     "text": [
      "0. Coffee\n",
      "4. Tea\n"
     ]
    }
   ],
   "source": [
    "for item in ('Coffee', 'Tea'):\n",
    "    if item in favorites:\n",
    "        index = favorites.index(item)\n",
    "        print(f\"{index}. {item}\")"
   ]
  },
  {
   "cell_type": "code",
   "execution_count": 91,
   "metadata": {},
   "outputs": [
    {
     "name": "stdout",
     "output_type": "stream",
     "text": [
      "Coke: 1500\n",
      "Milk: 1200\n"
     ]
    }
   ],
   "source": [
    "menu = {'Coffee': 2000, 'Juice': 2200, 'Coke': 1500, 'Milk': 1200}\n",
    "\n",
    "for key, value in menu.items():\n",
    "    if value <= 1500:\n",
    "        print(f'{key}: {value}')"
   ]
  },
  {
   "cell_type": "code",
   "execution_count": 3,
   "metadata": {},
   "outputs": [
    {
     "name": "stdout",
     "output_type": "stream",
     "text": [
      "Coke: 1500\n",
      "Milk: 1200\n"
     ]
    }
   ],
   "source": [
    "menu = {'Coffee': 2000, 'Juice': 2200, 'Coke': 1500, 'Milk': 1200}\n",
    "\n",
    "for key in menu:\n",
    "    if menu[key] <= 1500:\n",
    "        print(f\"{key}: {menu[key]}\")\n",
    "        # print(f\"{key}: {menu.get(key)}\")"
   ]
  }
 ],
 "metadata": {
  "kernelspec": {
   "display_name": "Python 3",
   "language": "python",
   "name": "python3"
  },
  "language_info": {
   "codemirror_mode": {
    "name": "ipython",
    "version": 3
   },
   "file_extension": ".py",
   "mimetype": "text/x-python",
   "name": "python",
   "nbconvert_exporter": "python",
   "pygments_lexer": "ipython3",
   "version": "3.11.6"
  }
 },
 "nbformat": 4,
 "nbformat_minor": 2
}
