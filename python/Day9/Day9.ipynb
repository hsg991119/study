{
 "cells": [
  {
   "cell_type": "code",
   "execution_count": null,
   "metadata": {},
   "outputs": [],
   "source": [
    "for i in range(2,21,2):\n",
    "    print(f\"i = {i}\")"
   ]
  },
  {
   "cell_type": "code",
   "execution_count": null,
   "metadata": {},
   "outputs": [],
   "source": [
    "for i in range(1,101):\n",
    "    if i % 3 == 0 and i % 5 == 0:\n",
    "        print(f\"i = {i}\")"
   ]
  },
  {
   "cell_type": "code",
   "execution_count": null,
   "metadata": {},
   "outputs": [],
   "source": [
    "num = int(input('Enter a positive integer: '))\n",
    "\n",
    "for i in range(num):\n",
    "    print(f\"{i+1}. Hello World!\")"
   ]
  },
  {
   "cell_type": "code",
   "execution_count": null,
   "metadata": {},
   "outputs": [],
   "source": [
    "result = 0\n",
    "\n",
    "for i in range(1,101):\n",
    "    result += i\n",
    "\n",
    "print(f\"The sum of the integers between 1 and 100 is {sum}\")"
   ]
  },
  {
   "cell_type": "code",
   "execution_count": null,
   "metadata": {},
   "outputs": [],
   "source": [
    "n1, n2 = map(int , input('Enter two positive integers: ').split())\n",
    "\n",
    "if n1 < n2:\n",
    "    result = sum(range(n1, n2 + 1))\n",
    "else:\n",
    "    result = sum(range(n2, n1 + 1))\n",
    "\n",
    "print(f\"result = {result}\")"
   ]
  },
  {
   "cell_type": "code",
   "execution_count": 27,
   "metadata": {},
   "outputs": [
    {
     "ename": "TypeError",
     "evalue": "'int' object is not callable",
     "output_type": "error",
     "traceback": [
      "\u001b[1;31m---------------------------------------------------------------------------\u001b[0m",
      "\u001b[1;31mTypeError\u001b[0m                                 Traceback (most recent call last)",
      "\u001b[1;32md:\\workspace\\python\\Day9\\Day9.ipynb Cell 6\u001b[0m line \u001b[0;36m3\n\u001b[0;32m      <a href='vscode-notebook-cell:/d%3A/workspace/python/Day9/Day9.ipynb#X12sZmlsZQ%3D%3D?line=0'>1</a>\u001b[0m n1, n2 \u001b[39m=\u001b[39m \u001b[39mmap\u001b[39m(\u001b[39mint\u001b[39m , \u001b[39minput\u001b[39m(\u001b[39m'\u001b[39m\u001b[39mEnter two positive integers: \u001b[39m\u001b[39m'\u001b[39m)\u001b[39m.\u001b[39msplit())\n\u001b[1;32m----> <a href='vscode-notebook-cell:/d%3A/workspace/python/Day9/Day9.ipynb#X12sZmlsZQ%3D%3D?line=2'>3</a>\u001b[0m max_, min_ \u001b[39m=\u001b[39m \u001b[39mmax\u001b[39;49m(n1,n2), \u001b[39mmin\u001b[39m(n1,n2)\n\u001b[0;32m      <a href='vscode-notebook-cell:/d%3A/workspace/python/Day9/Day9.ipynb#X12sZmlsZQ%3D%3D?line=4'>5</a>\u001b[0m result \u001b[39m=\u001b[39m \u001b[39msum\u001b[39m(\u001b[39mrange\u001b[39m(min_, max_ \u001b[39m+\u001b[39m \u001b[39m1\u001b[39m))\n\u001b[0;32m      <a href='vscode-notebook-cell:/d%3A/workspace/python/Day9/Day9.ipynb#X12sZmlsZQ%3D%3D?line=6'>7</a>\u001b[0m \u001b[39mprint\u001b[39m(\u001b[39mf\u001b[39m\u001b[39m\"\u001b[39m\u001b[39mresult = \u001b[39m\u001b[39m{\u001b[39;00mresult\u001b[39m}\u001b[39;00m\u001b[39m\"\u001b[39m)\n",
      "\u001b[1;31mTypeError\u001b[0m: 'int' object is not callable"
     ]
    }
   ],
   "source": [
    "n1, n2 = map(int , input('Enter two positive integers: ').split())\n",
    "\n",
    "max_, min_ = max(n1,n2), min(n1,n2)\n",
    "\n",
    "result = sum(range(min_, max_ + 1))\n",
    "\n",
    "print(f\"result = {result}\")"
   ]
  }
 ],
 "metadata": {
  "kernelspec": {
   "display_name": "Python 3",
   "language": "python",
   "name": "python3"
  },
  "language_info": {
   "codemirror_mode": {
    "name": "ipython",
    "version": 3
   },
   "file_extension": ".py",
   "mimetype": "text/x-python",
   "name": "python",
   "nbconvert_exporter": "python",
   "pygments_lexer": "ipython3",
   "version": "3.11.6"
  }
 },
 "nbformat": 4,
 "nbformat_minor": 2
}
