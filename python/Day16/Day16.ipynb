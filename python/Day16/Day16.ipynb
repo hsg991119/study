{
 "cells": [
  {
   "cell_type": "code",
   "execution_count": 3,
   "metadata": {},
   "outputs": [
    {
     "name": "stdout",
     "output_type": "stream",
     "text": [
      "The average: 68.5\n",
      "Percentage of numbers above the average: 50.0%\n"
     ]
    }
   ],
   "source": [
    "LENGTH = 30\n",
    "\n",
    "numbers = []\n",
    "\n",
    "count = 0\n",
    "\n",
    "for i in range(LENGTH):\n",
    "    num = int(input('Enter an integer: '))\n",
    "\n",
    "    if num == 0: break\n",
    "\n",
    "    numbers.append(num)\n",
    "\n",
    "average = sum(numbers) / len(numbers)\n",
    "\n",
    "for i in numbers:\n",
    "    if i >= average:\n",
    "        count += 1\n",
    "\n",
    "above = count / len(numbers) * 100\n",
    "\n",
    "print(f\"The average: {average:.1f}\")\n",
    "print(f'Percentage of numbers above the average: {above}%')\n"
   ]
  },
  {
   "cell_type": "code",
   "execution_count": 5,
   "metadata": {},
   "outputs": [
    {
     "name": "stdout",
     "output_type": "stream",
     "text": [
      "The average: 55.0\n",
      "Percentage of numbers above the average: 50.0%\n"
     ]
    }
   ],
   "source": [
    "numbers = list()\n",
    "\n",
    "for i in range(30):\n",
    "    num = int(input('Enter an integer: '))\n",
    "\n",
    "    if num == 0: break\n",
    "\n",
    "    numbers.append(num)\n",
    "\n",
    "average = sum(numbers) / len(numbers)\n",
    "\n",
    "above_average = 0\n",
    "\n",
    "for item in numbers:\n",
    "    if item > average:\n",
    "        above_average += 1\n",
    "\n",
    "\n",
    "percent = above_average / len(numbers) * 100\n",
    "\n",
    "print(f\"The average: {average:.1f}\")\n",
    "print(f'Percentage of numbers above the average: {percent}%')"
   ]
  },
  {
   "cell_type": "code",
   "execution_count": 15,
   "metadata": {},
   "outputs": [
    {
     "name": "stdout",
     "output_type": "stream",
     "text": [
      "1's digit = 4\n",
      "10's digit = 3\n",
      "100's digit = 2\n",
      "1000's digit = 1\n"
     ]
    }
   ],
   "source": [
    "digit = list()\n",
    "\n",
    "\n",
    "num = int(input('Enter a positive integer: '))\n",
    "\n",
    "length = len(str(num))\n",
    "\n",
    "for i in range(length):\n",
    "    digit.append(int(num % 10))\n",
    "    num = num / 10\n",
    "\n",
    "for j in range(length):\n",
    "    base = 10 ** j\n",
    "    print(f\"{base}'s digit = {digit[j]}\")\n"
   ]
  },
  {
   "cell_type": "code",
   "execution_count": 16,
   "metadata": {},
   "outputs": [
    {
     "name": "stdout",
     "output_type": "stream",
     "text": [
      "1's digit = 4\n",
      "10's digit = 3\n",
      "100's digit = 2\n",
      "1000's digit = 1\n"
     ]
    }
   ],
   "source": [
    "num = int(input('Enter a positive integer: '))\n",
    "\n",
    "length = len(str(num))\n",
    "\n",
    "for i in range(length):\n",
    "    base = 10 ** i\n",
    "    print(f\"{base}'s digit = {num // base % 10}\")"
   ]
  },
  {
   "cell_type": "code",
   "execution_count": 17,
   "metadata": {},
   "outputs": [
    {
     "name": "stdout",
     "output_type": "stream",
     "text": [
      "1's digit = 4\n",
      "-1\n",
      "10's digit = 3\n",
      "-2\n",
      "100's digit = 2\n",
      "-3\n",
      "1000's digit = 1\n",
      "-4\n"
     ]
    }
   ],
   "source": [
    "str_num = str(num)\n",
    "length = len(str_num)\n",
    "\n",
    "for i in range(length):\n",
    "    print(f\"{10 ** i}'s digit = {str_num[-i -1]}\")"
   ]
  },
  {
   "cell_type": "code",
   "execution_count": null,
   "metadata": {},
   "outputs": [],
   "source": [
    "base = 1\n",
    "while num < base:\n",
    "    print(f\"{base}'s digit = {num // base % 10}\")\n",
    "    base *= 10"
   ]
  },
  {
   "cell_type": "code",
   "execution_count": 1,
   "metadata": {},
   "outputs": [
    {
     "name": "stdout",
     "output_type": "stream",
     "text": [
      "2022-11-03 Thursday\n"
     ]
    }
   ],
   "source": [
    "MONTH_DAYS = (0, 31, 28, 31, 30, 31, 30, 31, 31, 30, 31, 30, 31)\n",
    "\n",
    "DAY_WEEK_FIRST = 6\n",
    "\n",
    "WEEK = ('Sunday', 'Monday', 'Tuesday', 'Wednesday', 'Thursday', 'Friday', 'Saturday')\n",
    "\n",
    "month = int(input('Enter month as a number: '))\n",
    "day = int(input('Enter day as a number: '))\n",
    "\n",
    "days = 0\n",
    "\n",
    "for i in range(1, month):\n",
    "    days += MONTH_DAYS[i]\n",
    "\n",
    "# 사용자가 입력한 일을 변수 days에 누적해서 더하고, 1월 1일의 일(1)을 뺀다\n",
    "days += day - 1\n",
    "\n",
    "# 사용자가 입력한 날짜의 요일을 계산\n",
    "#-> ((1월 1일의 요일) + (지난 날짜)) % 7\n",
    "day_week = (DAY_WEEK_FIRST + days) % 7\n",
    "\n",
    "print(f\"2022-{month:02d}-{day:02d} {WEEK[day_week]}\")"
   ]
  }
 ],
 "metadata": {
  "kernelspec": {
   "display_name": "Python 3",
   "language": "python",
   "name": "python3"
  },
  "language_info": {
   "codemirror_mode": {
    "name": "ipython",
    "version": 3
   },
   "file_extension": ".py",
   "mimetype": "text/x-python",
   "name": "python",
   "nbconvert_exporter": "python",
   "pygments_lexer": "ipython3",
   "version": "3.11.6"
  }
 },
 "nbformat": 4,
 "nbformat_minor": 2
}
