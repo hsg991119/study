{
 "cells": [
  {
   "cell_type": "code",
   "execution_count": 2,
   "metadata": {},
   "outputs": [
    {
     "name": "stdout",
     "output_type": "stream",
     "text": [
      "result = 30\n"
     ]
    }
   ],
   "source": [
    "n1, n2 = map(int , input('Enter two positive integers: ').split())\n",
    "\n",
    "max_, min_ = max(n1,n2), min(n1, n2)\n",
    "\n",
    "result = sum(range(min_, max_ + 1))\n",
    "\n",
    "print(f\"result = {result}\")"
   ]
  },
  {
   "cell_type": "code",
   "execution_count": 3,
   "metadata": {},
   "outputs": [
    {
     "name": "stdout",
     "output_type": "stream",
     "text": [
      "result = 30\n"
     ]
    }
   ],
   "source": [
    "print(f\"result = {sum(range(min(n1, n2), max(n1, n2) + 1))}\")"
   ]
  },
  {
   "cell_type": "code",
   "execution_count": null,
   "metadata": {},
   "outputs": [],
   "source": [
    "step = 1\n",
    "\n",
    "if n1 > n2:\n",
    "    step = -1\n",
    "\n",
    "print(f\"result = {sum(range(n1, n2 + step, step))}\")"
   ]
  },
  {
   "cell_type": "code",
   "execution_count": 4,
   "metadata": {},
   "outputs": [
    {
     "name": "stdout",
     "output_type": "stream",
     "text": [
      "result = 30\n"
     ]
    }
   ],
   "source": [
    "step = 1 if n2 > n1 else -1\n",
    "\n",
    "print(f\"result = {sum(range(n1, n2 + step, step))}\")"
   ]
  },
  {
   "cell_type": "code",
   "execution_count": 12,
   "metadata": {},
   "outputs": [
    {
     "name": "stdout",
     "output_type": "stream",
     "text": [
      "Factorial 4 = 24\n"
     ]
    }
   ],
   "source": [
    "num = int(input('Enter a positive integer: '))\n",
    "\n",
    "factorial = 1\n",
    "\n",
    "\n",
    "for i in range(2, num + 1):\n",
    "\n",
    "    factorial *= i    \n",
    "\n",
    "print(f\"Factorial {num} = {factorial}\")"
   ]
  },
  {
   "cell_type": "code",
   "execution_count": 13,
   "metadata": {},
   "outputs": [
    {
     "name": "stdout",
     "output_type": "stream",
     "text": [
      "Factorial 4 = 24\n"
     ]
    }
   ],
   "source": [
    "import math\n",
    "\n",
    "factorial = math.factorial(num)\n",
    "\n",
    "print(f\"Factorial {num} = {factorial}\")"
   ]
  },
  {
   "cell_type": "code",
   "execution_count": 19,
   "metadata": {},
   "outputs": [
    {
     "name": "stdout",
     "output_type": "stream",
     "text": [
      "Sum so far = 66\n",
      "Last added integer = 11\n"
     ]
    }
   ],
   "source": [
    "num = int(input('Enter a positive integer: '))\n",
    "\n",
    "result = 0\n",
    "\n",
    "i = 0\n",
    "\n",
    "while result <= num:\n",
    "    i += 1\n",
    "    result += i\n",
    "\n",
    "print(f\"Sum so far = {result}\")\n",
    "print(f\"Last added integer = {i}\")"
   ]
  },
  {
   "cell_type": "code",
   "execution_count": 3,
   "metadata": {},
   "outputs": [
    {
     "name": "stdout",
     "output_type": "stream",
     "text": [
      "sum = 55\n"
     ]
    }
   ],
   "source": [
    "result = 0\n",
    "\n",
    "while True:\n",
    "    num = int(input('Enter an integer: '))\n",
    "\n",
    "    if num == 0: break\n",
    "\n",
    "    result += num\n",
    "    \n",
    "print(f\"sum = {result}\")"
   ]
  },
  {
   "cell_type": "code",
   "execution_count": 4,
   "metadata": {},
   "outputs": [
    {
     "name": "stdout",
     "output_type": "stream",
     "text": [
      "sum = 55\n"
     ]
    }
   ],
   "source": [
    "numbers = list()\n",
    "\n",
    "while True:\n",
    "    num = int(input('Enter an integer: '))\n",
    "\n",
    "    if num == 0: break\n",
    "\n",
    "    numbers.append(num)\n",
    "\n",
    "print(\"sum =\", sum(numbers))"
   ]
  },
  {
   "cell_type": "code",
   "execution_count": 31,
   "metadata": {},
   "outputs": [
    {
     "name": "stdout",
     "output_type": "stream",
     "text": [
      "13 18 23 "
     ]
    }
   ],
   "source": [
    "n1, n2 = map(int, input('Enter two positive integers: ').split())\n",
    "\n",
    "max_, min_ = max(n1, n2), min(n1, n2)\n",
    "\n",
    "\n",
    "for i in range(min_, max_+1):\n",
    "    if i % 10 == 3 or i % 10 == 8:\n",
    "        print(i, end=\" \")"
   ]
  },
  {
   "cell_type": "code",
   "execution_count": 5,
   "metadata": {},
   "outputs": [
    {
     "name": "stdout",
     "output_type": "stream",
     "text": [
      "13 18 23 \n"
     ]
    }
   ],
   "source": [
    "n1, n2 = map(int, input('Enter two positive integers: ').split())\n",
    "\n",
    "max_, min_ = (n1, n2) if n1 > n2 else (n2, n1)\n",
    "\n",
    "for i in range(min_, max_+1):\n",
    "\n",
    "    digit = i % 10\n",
    "\n",
    "    if digit in (3, 8):\n",
    "        print(i, end=\" \")\n",
    "\n",
    "print()"
   ]
  }
 ],
 "metadata": {
  "kernelspec": {
   "display_name": "Python 3",
   "language": "python",
   "name": "python3"
  },
  "language_info": {
   "codemirror_mode": {
    "name": "ipython",
    "version": 3
   },
   "file_extension": ".py",
   "mimetype": "text/x-python",
   "name": "python",
   "nbconvert_exporter": "python",
   "pygments_lexer": "ipython3",
   "version": "3.11.6"
  }
 },
 "nbformat": 4,
 "nbformat_minor": 2
}
