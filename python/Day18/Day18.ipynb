{
 "cells": [
  {
   "cell_type": "code",
   "execution_count": 2,
   "metadata": {},
   "outputs": [
    {
     "name": "stdout",
     "output_type": "stream",
     "text": [
      "Your grade is B.\n"
     ]
    }
   ],
   "source": [
    "def get_grade(score):\n",
    "    grade = 'F'\n",
    "\n",
    "    if score >= 90: grade = 'A'\n",
    "    elif score >= 80: grade = 'B'\n",
    "    elif score >= 70: grade = 'C'\n",
    "    elif score >= 60: grade = 'D'\n",
    "\n",
    "    return grade\n",
    "\n",
    "score = int(input('Enter your score: '))\n",
    "\n",
    "if score < 0 or score > 100:\n",
    "    print('ERROR: Invalid score!')\n",
    "    exit()\n",
    "\n",
    "print(f'Your grade is {get_grade(score)}.')"
   ]
  },
  {
   "cell_type": "code",
   "execution_count": 3,
   "metadata": {},
   "outputs": [
    {
     "name": "stdout",
     "output_type": "stream",
     "text": [
      "value =  5\n",
      "value =  5\n",
      "value =  2\n",
      "value =  5\n",
      "value =  10\n",
      "value =  2\n",
      "value =  10\n",
      "value =  4\n",
      "value =  3\n",
      "value =  8\n"
     ]
    }
   ],
   "source": [
    "import random\n",
    "\n",
    "for i in range(10):\n",
    "    print('value = ', random.randint(1, 10))"
   ]
  },
  {
   "cell_type": "code",
   "execution_count": 23,
   "metadata": {},
   "outputs": [
    {
     "name": "stdout",
     "output_type": "stream",
     "text": [
      "numbers:  44 40 2 11 43 24\n"
     ]
    }
   ],
   "source": [
    "alist = []\n",
    "\n",
    "for i in range(6):\n",
    "    num = random.randint(1, 45)\n",
    "    if num in alist:\n",
    "        num = random.randint(1, 45)\n",
    "    alist.append(num)\n",
    "\n",
    "print('numbers: ', *alist)\n"
   ]
  },
  {
   "cell_type": "code",
   "execution_count": 22,
   "metadata": {},
   "outputs": [
    {
     "name": "stdout",
     "output_type": "stream",
     "text": [
      "This week's lottery numbers=  3 15 18 26 27 40\n"
     ]
    }
   ],
   "source": [
    "numbers = list()\n",
    "\n",
    "while len(numbers) < 6:\n",
    "    num = random.randint(1, 45)\n",
    "\n",
    "    if num not in numbers:\n",
    "        numbers.append(num)\n",
    "\n",
    "print(\"This week's lottery numbers= \", *sorted(numbers))"
   ]
  },
  {
   "cell_type": "code",
   "execution_count": 54,
   "metadata": {},
   "outputs": [
    {
     "name": "stdout",
     "output_type": "stream",
     "text": [
      "This week's lottery numbers=  1 7 8 27 29 37\n"
     ]
    }
   ],
   "source": [
    "numbers = set()\n",
    "\n",
    "while len(numbers) < 6:\n",
    "    numbers.add(random.randint(1, 45))\n",
    "\n",
    "print(\"This week's lottery numbers= \", *sorted(numbers))"
   ]
  }
 ],
 "metadata": {
  "kernelspec": {
   "display_name": "Python 3",
   "language": "python",
   "name": "python3"
  },
  "language_info": {
   "codemirror_mode": {
    "name": "ipython",
    "version": 3
   },
   "file_extension": ".py",
   "mimetype": "text/x-python",
   "name": "python",
   "nbconvert_exporter": "python",
   "pygments_lexer": "ipython3",
   "version": "3.11.6"
  }
 },
 "nbformat": 4,
 "nbformat_minor": 2
}
