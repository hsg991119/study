{
 "cells": [
  {
   "cell_type": "code",
   "execution_count": 11,
   "metadata": {},
   "outputs": [
    {
     "name": "stdout",
     "output_type": "stream",
     "text": [
      "My name is 21\n",
      "age Harry Potter!\n"
     ]
    }
   ],
   "source": [
    "def print_name(name):\n",
    "    print(f\"My name is {name}\")\n",
    "\n",
    "print_name(\"Harry Potter!\")"
   ]
  },
  {
   "cell_type": "code",
   "execution_count": 12,
   "metadata": {},
   "outputs": [
    {
     "name": "stdout",
     "output_type": "stream",
     "text": [
      "Hi, Harry. Nice to meet you\n"
     ]
    }
   ],
   "source": [
    "def greeting(name):\n",
    "    print(f'Hi, {name}. Nice to meet you')\n",
    "\n",
    "\n",
    "value = input('Enter your name: ')\n",
    "greeting(value)"
   ]
  },
  {
   "cell_type": "code",
   "execution_count": 17,
   "metadata": {},
   "outputs": [
    {
     "name": "stdout",
     "output_type": "stream",
     "text": [
      "Factors of 64 =  1 2 4 8 16 32 64\n"
     ]
    }
   ],
   "source": [
    "def print_factors(num):\n",
    "\n",
    "    factors = []\n",
    "\n",
    "    for i in range(1, num + 1):\n",
    "        if num % i == 0:\n",
    "            factors.append(i)\n",
    "\n",
    "    print(f'Factors of {num} = ', *factors)\n",
    "\n",
    "num = int(input('Enter a positive integer: '))\n",
    "\n",
    "print_factors(num)"
   ]
  },
  {
   "cell_type": "code",
   "execution_count": 19,
   "metadata": {},
   "outputs": [
    {
     "name": "stdout",
     "output_type": "stream",
     "text": [
      "area of the circle = 153.938\n"
     ]
    }
   ],
   "source": [
    "CIRCLE = 3.141592\n",
    "\n",
    "def get_area_circle(radius):\n",
    "    radius = radius**2 * CIRCLE\n",
    "    print(f\"area of the circle = {radius:.3f}\")\n",
    "\n",
    "\n",
    "value =  int(input('Enter a raidus: '))\n",
    "get_area_circle(value)"
   ]
  }
 ],
 "metadata": {
  "kernelspec": {
   "display_name": "Python 3",
   "language": "python",
   "name": "python3"
  },
  "language_info": {
   "codemirror_mode": {
    "name": "ipython",
    "version": 3
   },
   "file_extension": ".py",
   "mimetype": "text/x-python",
   "name": "python",
   "nbconvert_exporter": "python",
   "pygments_lexer": "ipython3",
   "version": "3.11.6"
  }
 },
 "nbformat": 4,
 "nbformat_minor": 2
}
