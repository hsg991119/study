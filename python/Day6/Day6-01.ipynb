{
 "cells": [
  {
   "cell_type": "code",
   "execution_count": 2,
   "metadata": {},
   "outputs": [
    {
     "name": "stdout",
     "output_type": "stream",
     "text": [
      "17 is an Odd number.\n"
     ]
    }
   ],
   "source": [
    "num = int(input('Enter a positive integer: '))\n",
    "\n",
    "if num % 2 == 1:\n",
    "    print(f\"{num} is an Odd number.\")\n",
    "else:\n",
    "    print(f\"{num} is an Even number.\")"
   ]
  },
  {
   "cell_type": "code",
   "execution_count": 5,
   "metadata": {},
   "outputs": [
    {
     "name": "stdout",
     "output_type": "stream",
     "text": [
      "48 - 15 = 33\n"
     ]
    }
   ],
   "source": [
    "n1, n2 = map(int, input('Enter two integers: ').split())\n",
    "\n",
    "if n1 > n2:\n",
    "    max = n1\n",
    "    min = n2\n",
    "else:\n",
    "    max = n2\n",
    "    min = n1\n",
    "\n",
    "print(f\"{max} - {min} = {max - min}\")"
   ]
  },
  {
   "cell_type": "code",
   "execution_count": 8,
   "metadata": {},
   "outputs": [
    {
     "name": "stdout",
     "output_type": "stream",
     "text": [
      "Today's wage is 85500won.\n"
     ]
    }
   ],
   "source": [
    "wage = int(input('Enter hourly wagw: '))\n",
    "hours = int(input('Enter the hours worked: '))\n",
    "\n",
    "today_wage = wage * hours\n",
    "\n",
    "if hours > 8:\n",
    "    # 8시간 초과 추가 수당 = 시급의 50% * 8시간을 초과한 근무시간\n",
    "    today_wage += int(wage * 0.5* (hours- 8))\n",
    "    print(f\"Today's wage is {today_wage}won.\")\n",
    "else:\n",
    "    print(f\"Today's wage is {today_wage}won.\")"
   ]
  },
  {
   "cell_type": "code",
   "execution_count": null,
   "metadata": {},
   "outputs": [],
   "source": [
    "wage = int(input('Enter hourly wagw: '))\n",
    "hours = int(input('Enter the hours worked: '))\n",
    "\n",
    "if hours > 8:\n",
    "    # 급여 = 시급 * 8시간 + 시급의 50% * 8시간을 초과한 근무시간\n",
    "    today_wage = wage * 8 + int(wage * 1.5 * (hours - 8))\n",
    "else:\n",
    "    today_wage = wage * hours\n",
    "\n",
    "print(f\"Today's wage is {today_wage}won.\")"
   ]
  }
 ],
 "metadata": {
  "kernelspec": {
   "display_name": "Python 3",
   "language": "python",
   "name": "python3"
  },
  "language_info": {
   "codemirror_mode": {
    "name": "ipython",
    "version": 3
   },
   "file_extension": ".py",
   "mimetype": "text/x-python",
   "name": "python",
   "nbconvert_exporter": "python",
   "pygments_lexer": "ipython3",
   "version": "3.11.6"
  }
 },
 "nbformat": 4,
 "nbformat_minor": 2
}
