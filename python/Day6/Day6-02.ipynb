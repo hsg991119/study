{
 "cells": [
  {
   "cell_type": "code",
   "execution_count": 1,
   "metadata": {},
   "outputs": [
    {
     "name": "stdout",
     "output_type": "stream",
     "text": [
      "Average: 18.7\n",
      "Grade: F\n"
     ]
    }
   ],
   "source": [
    "korean = int(input('Enter the Korean score: '))\n",
    "english = int(input('Enter the English score: '))\n",
    "math = int(input('Enter the Math score: '))\n",
    "\n",
    "average = (korean + english + math) / 3\n",
    "\n",
    "if 90 <= average:\n",
    "    grade = 'A' \n",
    "elif 80 <= average:\n",
    "    grade = 'B'\n",
    "elif 70 <= average:\n",
    "    grade = 'C'\n",
    "elif 60 <= average:\n",
    "    grade = 'D'\n",
    "else:\n",
    "    grade = 'F'\n",
    "\n",
    "\n",
    "print(f\"Average: {average:.1f}\")\n",
    "print(f\"Grade: {grade}\")\n",
    "\n"
   ]
  },
  {
   "cell_type": "code",
   "execution_count": 2,
   "metadata": {},
   "outputs": [
    {
     "name": "stdout",
     "output_type": "stream",
     "text": [
      "24 is a multiple of 3 and a multiple of 4.\n"
     ]
    }
   ],
   "source": [
    "num = int(input('Enter an integer:'))\n",
    "\n",
    "if num <= 0:\n",
    "    print(\"0 is neither a multiple of 3 nor a multiple of 4.\")\n",
    "elif num % 3 == 0 and num % 4 == 0:\n",
    "    print(f\"{num} is a multiple of 3 and a multiple of 4.\")\n",
    "elif num % 3 != 0 and num % 4 != 0:\n",
    "    print(f\"{num} is neither a multiple of 3 nor a multiple of 4.\")\n",
    "elif num % 3 == 0:\n",
    "    print(f\"{num} is a multiple of 3\")\n",
    "elif num % 4 == 0:\n",
    "    print(f\"{num} is a multiple of 4\")\n",
    "\n"
   ]
  }
 ],
 "metadata": {
  "kernelspec": {
   "display_name": "Python 3",
   "language": "python",
   "name": "python3"
  },
  "language_info": {
   "codemirror_mode": {
    "name": "ipython",
    "version": 3
   },
   "file_extension": ".py",
   "mimetype": "text/x-python",
   "name": "python",
   "nbconvert_exporter": "python",
   "pygments_lexer": "ipython3",
   "version": "3.11.6"
  }
 },
 "nbformat": 4,
 "nbformat_minor": 2
}
