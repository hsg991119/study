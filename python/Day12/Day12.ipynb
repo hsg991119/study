{
 "cells": [
  {
   "cell_type": "code",
   "execution_count": 13,
   "metadata": {},
   "outputs": [
    {
     "name": "stdout",
     "output_type": "stream",
     "text": [
      "철수 잔고132500, 영희 잔고132593\n",
      "33\n"
     ]
    }
   ],
   "source": [
    "Balance1 = 50000\n",
    "Balance2 = 50000\n",
    "year = 0\n",
    "\n",
    "while Balance1 >= Balance2: \n",
    "\n",
    "    year += 1\n",
    "\n",
    "    Balance1 += int(50000 * 0.05)\n",
    "    Balance2 += int(Balance2 * 0.03)\n",
    "\n",
    "\n",
    "print(f\"철수 잔고{Balance1}, 영희 잔고{Balance2}\")\n",
    "print(year)\n"
   ]
  },
  {
   "cell_type": "code",
   "execution_count": 11,
   "metadata": {},
   "outputs": [
    {
     "name": "stdout",
     "output_type": "stream",
     "text": [
      "after 33 years, cs = 132500, yh = 132593\n"
     ]
    }
   ],
   "source": [
    "PRINCTPAL = 50000\n",
    "CS_INT_RATE = 0.05\n",
    "YH_INT_RATE = 0.03\n",
    "\n",
    "cs_balance = PRINCTPAL\n",
    "yh_balance = PRINCTPAL\n",
    "year = 0\n",
    "\n",
    "while yh_balance <= cs_balance:\n",
    "    year += 1\n",
    "\n",
    "    cs_balance += int(PRINCTPAL * CS_INT_RATE)\n",
    "    yh_balance += int(yh_balance * YH_INT_RATE)\n",
    "\n",
    "\n",
    "print(f\"after {year} years, cs = {cs_balance}, yh = {yh_balance}\")"
   ]
  },
  {
   "cell_type": "code",
   "execution_count": 29,
   "metadata": {},
   "outputs": [
    {
     "name": "stdout",
     "output_type": "stream",
     "text": [
      "23 is a prime number.\n"
     ]
    }
   ],
   "source": [
    "is_prime = 1\n",
    "\n",
    "num = int(input('Enter a positive integer greater than1: '))\n",
    "\n",
    "for i in range(2, num):\n",
    "    if num % i == 0: \n",
    "        is_prime = 0\n",
    "\n",
    "if is_prime == 1: print(f\"{num} is a prime number.\")\n",
    "else: print(f\"{num} is NOT a prime number.\")"
   ]
  },
  {
   "cell_type": "code",
   "execution_count": 27,
   "metadata": {},
   "outputs": [
    {
     "name": "stdout",
     "output_type": "stream",
     "text": [
      "23 is a prime number.\n"
     ]
    }
   ],
   "source": [
    "num = int(input('Enter a positive integer greater than1: '))\n",
    "\n",
    "if num < 2:\n",
    "    print(\"ERROR: Invalid value!\")\n",
    "    exit()\n",
    "\n",
    "is_prime = True\n",
    "\n",
    "for i in range(2, num):\n",
    "    if num % i ==0:\n",
    "        is_prime = False\n",
    "        break\n",
    "\n",
    "if is_prime:\n",
    "    print(f\"{num} is a prime number.\")\n",
    "else:\n",
    "    print(f\"{num} is not a prime number.\")"
   ]
  }
 ],
 "metadata": {
  "kernelspec": {
   "display_name": "Python 3",
   "language": "python",
   "name": "python3"
  },
  "language_info": {
   "codemirror_mode": {
    "name": "ipython",
    "version": 3
   },
   "file_extension": ".py",
   "mimetype": "text/x-python",
   "name": "python",
   "nbconvert_exporter": "python",
   "pygments_lexer": "ipython3",
   "version": "3.11.6"
  }
 },
 "nbformat": 4,
 "nbformat_minor": 2
}
