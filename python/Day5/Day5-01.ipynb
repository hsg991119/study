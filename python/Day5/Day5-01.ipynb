{
 "cells": [
  {
   "cell_type": "code",
   "execution_count": 8,
   "metadata": {},
   "outputs": [
    {
     "name": "stdout",
     "output_type": "stream",
     "text": [
      "pi =  3.141592\n",
      "radius of the circle =  3\n",
      "area of the circle = 28.274\n",
      "circumference of the circle = 18.850\n"
     ]
    }
   ],
   "source": [
    "radius = int(input('Enter a radius of the circle: '))\n",
    "\n",
    "pi = 3.141592\n",
    "\n",
    "area = pi * radius ** 2\n",
    "\n",
    "circumference = 2 * pi * radius\n",
    "\n",
    "print(\"pi = \", pi)\n",
    "print(\"radius of the circle = \", radius)\n",
    "print(\"area of the circle = {:.3f}\".format(area))\n",
    "print(f\"circumference of the circle = {circumference:.3f}\")"
   ]
  },
  {
   "cell_type": "code",
   "execution_count": 9,
   "metadata": {},
   "outputs": [
    {
     "name": "stdout",
     "output_type": "stream",
     "text": [
      "Quotient =  3\n",
      "remainder =  1\n"
     ]
    }
   ],
   "source": [
    "n1, n2 = map(int, input('Enter two integers: ').split())\n",
    "\n",
    "print(\"Quotient = \", n1 // n2)\n",
    "print(\"remainder = \", n1 % n2)"
   ]
  },
  {
   "cell_type": "code",
   "execution_count": 3,
   "metadata": {},
   "outputs": [
    {
     "name": "stdout",
     "output_type": "stream",
     "text": [
      "Hello World!\n"
     ]
    }
   ],
   "source": [
    "num = int(input('Enter an integer: '))\n",
    "\n",
    "if num > 40:\n",
    "    print(\"Hello World!\")"
   ]
  },
  {
   "cell_type": "code",
   "execution_count": 4,
   "metadata": {},
   "outputs": [
    {
     "name": "stdout",
     "output_type": "stream",
     "text": [
      "Dream comes true!\n"
     ]
    }
   ],
   "source": [
    "num = int(input('Enter an integer: '))\n",
    "\n",
    "if 20 < num < 40:\n",
    "    print(\"Dream comes true!\")"
   ]
  },
  {
   "cell_type": "code",
   "execution_count": 10,
   "metadata": {},
   "outputs": [
    {
     "name": "stdout",
     "output_type": "stream",
     "text": [
      "Do your best!\n"
     ]
    }
   ],
   "source": [
    "num = int(input('Enter an integer: '))\n",
    "\n",
    "if 20 > num or num> 40:\n",
    "    print(\"Do your best!\")"
   ]
  }
 ],
 "metadata": {
  "kernelspec": {
   "display_name": "Python 3",
   "language": "python",
   "name": "python3"
  },
  "language_info": {
   "codemirror_mode": {
    "name": "ipython",
    "version": 3
   },
   "file_extension": ".py",
   "mimetype": "text/x-python",
   "name": "python",
   "nbconvert_exporter": "python",
   "pygments_lexer": "ipython3",
   "version": "3.11.6"
  }
 },
 "nbformat": 4,
 "nbformat_minor": 2
}
