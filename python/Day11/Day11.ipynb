{
 "cells": [
  {
   "cell_type": "code",
   "execution_count": 3,
   "metadata": {},
   "outputs": [
    {
     "name": "stdout",
     "output_type": "stream",
     "text": [
      "Multiples of 3 =  3 6 9 12 \n",
      "Number of multiples = 4\n"
     ]
    }
   ],
   "source": [
    "count = 0\n",
    "\n",
    "n1, n2 = map(int, input('Enter two positive integers: ').split())\n",
    "\n",
    "print(f\"Multiples of {n2} = \", end=' ')\n",
    "\n",
    "\n",
    "for i in range(1, n1 + 1):\n",
    "\n",
    "    if i % n2 == 0:\n",
    "\n",
    "        count += 1\n",
    "        print(i , end=' ')\n",
    "\n",
    "print()\n",
    "\n",
    "print(f\"Number of multiples = {count}\")"
   ]
  },
  {
   "cell_type": "code",
   "execution_count": 10,
   "metadata": {},
   "outputs": [
    {
     "name": "stdout",
     "output_type": "stream",
     "text": [
      "Multiples of 3 = [3, 6, 9, 12]\n",
      "Number of multiples = 4\n"
     ]
    }
   ],
   "source": [
    "multiples = list()\n",
    "\n",
    "for i in range(1, n1 + 1):\n",
    "    if i % n2 == 0:\n",
    "        multiples.append(i)\n",
    "\n",
    "print(f\"Multiples of {n2} = {(multiples)}\")\n",
    "print(f\"Number of multiples = {len(multiples)}\")"
   ]
  },
  {
   "cell_type": "code",
   "execution_count": 11,
   "metadata": {},
   "outputs": [
    {
     "name": "stdout",
     "output_type": "stream",
     "text": [
      "Multiples of 3 = 3 6 9 12\n",
      "Number of multiples = 4\n"
     ]
    }
   ],
   "source": [
    "print(f\"Multiples of {n2} = {' '.join(map(str, multiples))}\")\n",
    "print(f\"Number of multiples = {len(multiples)}\")"
   ]
  },
  {
   "cell_type": "code",
   "execution_count": 12,
   "metadata": {},
   "outputs": [
    {
     "name": "stdout",
     "output_type": "stream",
     "text": [
      "Multiples of 3 =  3 6 9 12\n",
      "Number of multiples = 4\n"
     ]
    }
   ],
   "source": [
    "print(f\"Multiples of {n2} = \", *multiples)\n",
    "print(f\"Number of multiples = {len(multiples)}\")"
   ]
  },
  {
   "cell_type": "code",
   "execution_count": 14,
   "metadata": {},
   "outputs": [
    {
     "name": "stdout",
     "output_type": "stream",
     "text": [
      "Multiples of 3 =  3, 6, 9, 12\n",
      "Number of multiples = 4\n"
     ]
    }
   ],
   "source": [
    "print(f\"Multiples of {n2} = \", end=' ')\n",
    "print(*multiples, sep=', ')\n",
    "print(f\"Number of multiples = {len(multiples)}\")"
   ]
  },
  {
   "cell_type": "code",
   "execution_count": 16,
   "metadata": {},
   "outputs": [
    {
     "name": "stdout",
     "output_type": "stream",
     "text": [
      "Multiples of 3 =  3 6 9 12\n",
      "Number of multiples = 4\n"
     ]
    }
   ],
   "source": [
    "multiples = list(range(n2, n1 +1, n2))\n",
    "\n",
    "\n",
    "print(f\"Multiples of {n2} = \", *multiples)\n",
    "print(f\"Number of multiples = {len(multiples)}\")"
   ]
  },
  {
   "cell_type": "code",
   "execution_count": 20,
   "metadata": {},
   "outputs": [
    {
     "name": "stdout",
     "output_type": "stream",
     "text": [
      "Multiples of 3 =  3 6 9 12\n",
      "Number of multiples = 4\n"
     ]
    }
   ],
   "source": [
    "multiples = range(n2, n1 +1, n2)\n",
    "\n",
    "\n",
    "print(f\"Multiples of {n2} = \", *multiples)\n",
    "print(f\"Number of multiples = {len(multiples)}\")"
   ]
  },
  {
   "cell_type": "code",
   "execution_count": 24,
   "metadata": {},
   "outputs": [
    {
     "name": "stdout",
     "output_type": "stream",
     "text": [
      "The greatest common factor of 1746 and 2358 is 18.\n"
     ]
    }
   ],
   "source": [
    "n1, n2 = map(int, input('Enter two positive integers: ').split())\n",
    "\n",
    "max_, min_ = max(n1, n2), min(n1, n2)\n",
    "\n",
    "divisor = 0\n",
    "\n",
    "for i in range(1, max_ + 1):\n",
    "    if n1 % i == 0 and n2 % i == 0:\n",
    "        divisor = max(i, divisor)\n",
    "\n",
    "\n",
    "print(f\"The greatest common factor of {min_} and {max_} is {divisor}.\")"
   ]
  },
  {
   "cell_type": "code",
   "execution_count": 2,
   "metadata": {},
   "outputs": [
    {
     "name": "stdout",
     "output_type": "stream",
     "text": [
      "The greatest common factor of 1746 and 2358 is 18.\n"
     ]
    }
   ],
   "source": [
    "n1, n2 = map(int, input('Enter two positive integers: ').split())\n",
    "\n",
    "min_ = min(n1, n2)\n",
    "\n",
    "\n",
    "for i in range(1, min_ + 1):\n",
    "    if n1 % i == 0 and n2 % i == 0:\n",
    "        gcf = i\n",
    "\n",
    "\n",
    "print(f\"The greatest common factor of {n1} and {n2} is {gcf}.\")"
   ]
  }
 ],
 "metadata": {
  "kernelspec": {
   "display_name": "Python 3",
   "language": "python",
   "name": "python3"
  },
  "language_info": {
   "codemirror_mode": {
    "name": "ipython",
    "version": 3
   },
   "file_extension": ".py",
   "mimetype": "text/x-python",
   "name": "python",
   "nbconvert_exporter": "python",
   "pygments_lexer": "ipython3",
   "version": "3.11.6"
  }
 },
 "nbformat": 4,
 "nbformat_minor": 2
}
