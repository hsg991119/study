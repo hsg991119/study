{
 "cells": [
  {
   "cell_type": "code",
   "execution_count": 10,
   "metadata": {},
   "outputs": [
    {
     "ename": "SyntaxError",
     "evalue": "invalid syntax. Perhaps you forgot a comma? (2332332354.py, line 13)",
     "output_type": "error",
     "traceback": [
      "\u001b[1;36m  Cell \u001b[1;32mIn[10], line 13\u001b[1;36m\u001b[0m\n\u001b[1;33m    print('*'  scores.count(item))\u001b[0m\n\u001b[1;37m          ^\u001b[0m\n\u001b[1;31mSyntaxError\u001b[0m\u001b[1;31m:\u001b[0m invalid syntax. Perhaps you forgot a comma?\n"
     ]
    }
   ],
   "source": [
    "result = 0\n",
    "\n",
    "scores = [88, 92, 76, 64, 86, 96]\n",
    "\n",
    "for item in scores:\n",
    "    result += item\n",
    "\n",
    "average = result / len(scores)\n",
    "\n",
    "print(f\"sum = {result}\")\n",
    "print(f\"average = {average:.2f}\")\n"
   ]
  },
  {
   "cell_type": "code",
   "execution_count": 7,
   "metadata": {},
   "outputs": [
    {
     "name": "stdout",
     "output_type": "stream",
     "text": [
      "sum = 502\n",
      "average = 83.67\n"
     ]
    }
   ],
   "source": [
    "resulte = sum(scores)\n",
    "\n",
    "average = result / len(scores)\n",
    "\n",
    "print(f\"sum = {result}\")\n",
    "print(f\"average = {average:.2f}\")"
   ]
  },
  {
   "cell_type": "code",
   "execution_count": 8,
   "metadata": {},
   "outputs": [
    {
     "name": "stdout",
     "output_type": "stream",
     "text": [
      "sum = 1090\n",
      "average = 121.11\n"
     ]
    }
   ],
   "source": [
    "result = 0\n",
    "\n",
    "for i in range(10):\n",
    "    num = int(input('Enter an integer: '))\n",
    "    result += num\n",
    "\n",
    "average = result / i\n",
    "\n",
    "print(f\"sum = {result}\")\n",
    "print(f\"average = {average:.1f}\")"
   ]
  },
  {
   "cell_type": "code",
   "execution_count": 12,
   "metadata": {},
   "outputs": [
    {
     "name": "stdout",
     "output_type": "stream",
     "text": [
      "sum = 55\n",
      "average = 5.5\n"
     ]
    }
   ],
   "source": [
    "LENGTH = 10\n",
    "\n",
    "result = 0\n",
    "\n",
    "for i in range(LENGTH):\n",
    "    num = int(input('Emter an interger: '))\n",
    "    \n",
    "    result += num\n",
    "\n",
    "average = result / LENGTH\n",
    "\n",
    "print(f\"sum = {result}\")\n",
    "print(f\"average = {average:.1f}\")\n"
   ]
  },
  {
   "cell_type": "code",
   "execution_count": 15,
   "metadata": {},
   "outputs": [
    {
     "name": "stdout",
     "output_type": "stream",
     "text": [
      "sum = 55\n",
      "average = 5.5\n"
     ]
    }
   ],
   "source": [
    "LENGTH = 10\n",
    "\n",
    "numbers = []\n",
    "\n",
    "for i in range(LENGTH):\n",
    "    num = int(input('Emter an interger: '))\n",
    "\n",
    "    numbers.append(num)\n",
    "    \n",
    "result = sum(numbers)\n",
    "\n",
    "average = result / LENGTH\n",
    "\n",
    "print(f\"sum = {result}\")\n",
    "print(f\"average = {average:.1f}\")\n"
   ]
  },
  {
   "cell_type": "code",
   "execution_count": 18,
   "metadata": {},
   "outputs": [
    {
     "name": "stdout",
     "output_type": "stream",
     "text": [
      "Maximun max() value = 10\n",
      "Maximun min() value = 1\n",
      "Maximun max_ value = 10\n",
      "Maximun min_ value = 1\n"
     ]
    }
   ],
   "source": [
    "LENGTH = 10\n",
    "\n",
    "numbers = []\n",
    "\n",
    "for i in range(LENGTH):\n",
    "    num = int(input('Enter an integer: '))\n",
    "\n",
    "    numbers.append(num)\n",
    "\n",
    "max_ = min_ = numbers[0]\n",
    "\n",
    "for item in numbers:\n",
    "\n",
    "    max_ = item if item > max_ else max_\n",
    "    # if item > max_: max_ = item\n",
    "\n",
    "    min_ = item if item < min_ else min_\n",
    "    # if item < min_: min_ = item\n",
    "\n",
    "print(f\"Maximun max() value = {max(numbers)}\")\n",
    "print(f\"Minimun min() value = {min(numbers)}\")\n",
    "\n",
    "print(f\"Maximun max_ value = {max_}\")\n",
    "print(f\"Minimun min_ value = {min_}\")\n"
   ]
  },
  {
   "cell_type": "code",
   "execution_count": 19,
   "metadata": {},
   "outputs": [
    {
     "name": "stdout",
     "output_type": "stream",
     "text": [
      "Maximun sort() value = 10\n",
      "Minimun sort() value = 1\n"
     ]
    }
   ],
   "source": [
    "numbers.sort()\n",
    "\n",
    "print(f\"Maximun sort() value = {numbers[-1]}\")\n",
    "print(f\"Minimun sort() value = {numbers[0]}\")"
   ]
  },
  {
   "cell_type": "code",
   "execution_count": 26,
   "metadata": {},
   "outputs": [
    {
     "name": "stdout",
     "output_type": "stream",
     "text": [
      "1 ****\n",
      "2 **\n",
      "3 *****\n",
      "4 *\n"
     ]
    }
   ],
   "source": [
    "numbers = [2, 3, 1, 3, 1, 3, 1, 4, 2,  3, 1, 3]\n",
    "\n",
    "start = []\n",
    "\n",
    "for i in range(1, 5):\n",
    "    count = 0\n",
    "\n",
    "    for item in numbers:\n",
    "        if i == item:\n",
    "            count += 1\n",
    "            \n",
    "    start.append(count)\n",
    "\n",
    "    print(f\"{i}\", end =\" \")\n",
    "\n",
    "    for j in range(count):\n",
    "        print(f\"*\", end=\"\")\n",
    "\n",
    "    print()"
   ]
  },
  {
   "cell_type": "code",
   "execution_count": 5,
   "metadata": {},
   "outputs": [
    {
     "name": "stdout",
     "output_type": "stream",
     "text": [
      "1 ****\n",
      "2 **\n",
      "3 *****\n",
      "4 *\n"
     ]
    }
   ],
   "source": [
    "numbers = [2, 3, 1, 3, 1, 3, 1, 4, 2,  3, 1, 3]\n",
    "\n",
    "count = [0] * 5\n",
    "\n",
    "for item in numbers:\n",
    "    count[item] += 1\n",
    "\n",
    "for i in range(1, 5):\n",
    "    print(i, '*' * count[i])"
   ]
  },
  {
   "cell_type": "code",
   "execution_count": 14,
   "metadata": {},
   "outputs": [
    {
     "name": "stdout",
     "output_type": "stream",
     "text": [
      "1 ****\n",
      "2 **\n",
      "3 *****\n",
      "4 *\n"
     ]
    }
   ],
   "source": [
    "for i in range(1, 5):\n",
    "    print(i, '*' *  numbers.count(i))"
   ]
  }
 ],
 "metadata": {
  "kernelspec": {
   "display_name": "Python 3",
   "language": "python",
   "name": "python3"
  },
  "language_info": {
   "codemirror_mode": {
    "name": "ipython",
    "version": 3
   },
   "file_extension": ".py",
   "mimetype": "text/x-python",
   "name": "python",
   "nbconvert_exporter": "python",
   "pygments_lexer": "ipython3",
   "version": "3.11.6"
  }
 },
 "nbformat": 4,
 "nbformat_minor": 2
}
